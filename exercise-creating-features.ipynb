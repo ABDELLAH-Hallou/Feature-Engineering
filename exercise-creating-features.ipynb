{
 "cells": [
  {
   "cell_type": "markdown",
   "id": "476f9f5e",
   "metadata": {
    "papermill": {
     "duration": 0.016395,
     "end_time": "2022-05-04T01:02:18.957471",
     "exception": false,
     "start_time": "2022-05-04T01:02:18.941076",
     "status": "completed"
    },
    "tags": []
   },
   "source": [
    "**This notebook is an exercise in the [Feature Engineering](https://www.kaggle.com/learn/feature-engineering) course.  You can reference the tutorial at [this link](https://www.kaggle.com/ryanholbrook/creating-features).**\n",
    "\n",
    "---\n"
   ]
  },
  {
   "cell_type": "markdown",
   "id": "4383f9ec",
   "metadata": {
    "papermill": {
     "duration": 0.014609,
     "end_time": "2022-05-04T01:02:18.987228",
     "exception": false,
     "start_time": "2022-05-04T01:02:18.972619",
     "status": "completed"
    },
    "tags": []
   },
   "source": [
    "# Introduction #\n",
    "\n",
    "In this exercise you'll start developing the features you identified in Exercise 2 as having the most potential. As you work through this exercise, you might take a moment to look at the data documentation again and consider whether the features we're creating make sense from a real-world perspective, and whether there are any useful combinations that stand out to you.\n",
    "\n",
    "Run this cell to set everything up!"
   ]
  },
  {
   "cell_type": "code",
   "execution_count": 1,
   "id": "44c33fdd",
   "metadata": {
    "execution": {
     "iopub.execute_input": "2022-05-04T01:02:19.019330Z",
     "iopub.status.busy": "2022-05-04T01:02:19.018677Z",
     "iopub.status.idle": "2022-05-04T01:02:20.381344Z",
     "shell.execute_reply": "2022-05-04T01:02:20.380308Z"
    },
    "papermill": {
     "duration": 1.382199,
     "end_time": "2022-05-04T01:02:20.384295",
     "exception": false,
     "start_time": "2022-05-04T01:02:19.002096",
     "status": "completed"
    },
    "tags": []
   },
   "outputs": [],
   "source": [
    "# Setup feedback system\n",
    "from learntools.core import binder\n",
    "binder.bind(globals())\n",
    "from learntools.feature_engineering_new.ex3 import *\n",
    "\n",
    "import numpy as np\n",
    "import pandas as pd\n",
    "from sklearn.model_selection import cross_val_score\n",
    "from xgboost import XGBRegressor\n",
    "\n",
    "\n",
    "def score_dataset(X, y, model=XGBRegressor()):\n",
    "    # Label encoding for categoricals\n",
    "    for colname in X.select_dtypes([\"category\", \"object\"]):\n",
    "        X[colname], _ = X[colname].factorize()\n",
    "    # Metric for Housing competition is RMSLE (Root Mean Squared Log Error)\n",
    "    score = cross_val_score(\n",
    "        model, X, y, cv=5, scoring=\"neg_mean_squared_log_error\",\n",
    "    )\n",
    "    score = -1 * score.mean()\n",
    "    score = np.sqrt(score)\n",
    "    return score\n",
    "\n",
    "\n",
    "# Prepare data\n",
    "df = pd.read_csv(\"../input/fe-course-data/ames.csv\")\n",
    "X = df.copy()\n",
    "y = X.pop(\"SalePrice\")"
   ]
  },
  {
   "cell_type": "markdown",
   "id": "112d5d2b",
   "metadata": {
    "papermill": {
     "duration": 0.015,
     "end_time": "2022-05-04T01:02:20.415250",
     "exception": false,
     "start_time": "2022-05-04T01:02:20.400250",
     "status": "completed"
    },
    "tags": []
   },
   "source": [
    "-------------------------------------------------------------------------------\n",
    "\n",
    "Let's start with a few mathematical combinations. We'll focus on features describing areas -- having the same units (square-feet) makes it easy to combine them in sensible ways. Since we're using XGBoost (a tree-based model), we'll focus on ratios and sums.\n",
    "\n",
    "# 1) Create Mathematical Transforms\n",
    "\n",
    "Create the following features:\n",
    "\n",
    "- `LivLotRatio`: the ratio of `GrLivArea` to `LotArea`\n",
    "- `Spaciousness`: the sum of `FirstFlrSF` and `SecondFlrSF` divided by `TotRmsAbvGrd`\n",
    "- `TotalOutsideSF`: the sum of `WoodDeckSF`, `OpenPorchSF`, `EnclosedPorch`, `Threeseasonporch`, and `ScreenPorch`"
   ]
  },
  {
   "cell_type": "code",
   "execution_count": 2,
   "id": "c9c5b1d8",
   "metadata": {
    "execution": {
     "iopub.execute_input": "2022-05-04T01:02:20.447535Z",
     "iopub.status.busy": "2022-05-04T01:02:20.447186Z",
     "iopub.status.idle": "2022-05-04T01:02:20.470217Z",
     "shell.execute_reply": "2022-05-04T01:02:20.469620Z"
    },
    "lines_to_next_cell": 0,
    "papermill": {
     "duration": 0.041511,
     "end_time": "2022-05-04T01:02:20.472147",
     "exception": false,
     "start_time": "2022-05-04T01:02:20.430636",
     "status": "completed"
    },
    "tags": []
   },
   "outputs": [
    {
     "data": {
      "application/javascript": [
       "parent.postMessage({\"jupyterEvent\": \"custom.exercise_interaction\", \"data\": {\"outcomeType\": 1, \"valueTowardsCompletion\": 0.2, \"interactionType\": 1, \"questionType\": 2, \"questionId\": \"1_Q1\", \"learnToolsVersion\": \"0.3.4\", \"failureMessage\": \"\", \"exceptionClass\": \"\", \"trace\": \"\"}}, \"*\")"
      ],
      "text/plain": [
       "<IPython.core.display.Javascript object>"
      ]
     },
     "metadata": {},
     "output_type": "display_data"
    },
    {
     "data": {
      "text/markdown": [
       "<span style=\"color:#33cc33\">Correct</span>"
      ],
      "text/plain": [
       "Correct"
      ]
     },
     "metadata": {},
     "output_type": "display_data"
    }
   ],
   "source": [
    "# YOUR CODE HERE\n",
    "X_1 = pd.DataFrame()  # dataframe to hold new features\n",
    "\n",
    "X_1[\"LivLotRatio\"] = X.GrLivArea / X.LotArea\n",
    "X_1[\"Spaciousness\"] = (X.FirstFlrSF + X.SecondFlrSF) / X.TotRmsAbvGrd\n",
    "X_1[\"TotalOutsideSF\"] = X.WoodDeckSF + X.OpenPorchSF + X.EnclosedPorch + X.Threeseasonporch + X.ScreenPorch\n",
    "\n",
    "\n",
    "# Check your answer\n",
    "q_1.check()"
   ]
  },
  {
   "cell_type": "code",
   "execution_count": 3,
   "id": "088fe176",
   "metadata": {
    "execution": {
     "iopub.execute_input": "2022-05-04T01:02:20.506278Z",
     "iopub.status.busy": "2022-05-04T01:02:20.505670Z",
     "iopub.status.idle": "2022-05-04T01:02:20.508755Z",
     "shell.execute_reply": "2022-05-04T01:02:20.508158Z"
    },
    "lines_to_next_cell": 0,
    "papermill": {
     "duration": 0.022182,
     "end_time": "2022-05-04T01:02:20.510497",
     "exception": false,
     "start_time": "2022-05-04T01:02:20.488315",
     "status": "completed"
    },
    "tags": []
   },
   "outputs": [],
   "source": [
    "# Lines below will give you a hint or solution code\n",
    "#q_1.hint()\n",
    "#q_1.solution()"
   ]
  },
  {
   "cell_type": "markdown",
   "id": "9ce45091",
   "metadata": {
    "papermill": {
     "duration": 0.015612,
     "end_time": "2022-05-04T01:02:20.542224",
     "exception": false,
     "start_time": "2022-05-04T01:02:20.526612",
     "status": "completed"
    },
    "tags": []
   },
   "source": [
    "-------------------------------------------------------------------------------\n",
    "\n",
    "If you've discovered an interaction effect between a numeric feature and a categorical feature, you might want to model it explicitly using a one-hot encoding, like so:\n",
    "\n",
    "```\n",
    "# One-hot encode Categorical feature, adding a column prefix \"Cat\"\n",
    "X_new = pd.get_dummies(df.Categorical, prefix=\"Cat\")\n",
    "\n",
    "# Multiply row-by-row\n",
    "X_new = X_new.mul(df.Continuous, axis=0)\n",
    "\n",
    "# Join the new features to the feature set\n",
    "X = X.join(X_new)\n",
    "```\n",
    "\n",
    "# 2) Interaction with a Categorical\n",
    "\n",
    "We discovered an interaction between `BldgType` and `GrLivArea` in Exercise 2. Now create their interaction features."
   ]
  },
  {
   "cell_type": "code",
   "execution_count": 4,
   "id": "ef46c04d",
   "metadata": {
    "execution": {
     "iopub.execute_input": "2022-05-04T01:02:20.576432Z",
     "iopub.status.busy": "2022-05-04T01:02:20.575391Z",
     "iopub.status.idle": "2022-05-04T01:02:20.589018Z",
     "shell.execute_reply": "2022-05-04T01:02:20.588203Z"
    },
    "lines_to_next_cell": 0,
    "papermill": {
     "duration": 0.032436,
     "end_time": "2022-05-04T01:02:20.590722",
     "exception": false,
     "start_time": "2022-05-04T01:02:20.558286",
     "status": "completed"
    },
    "tags": []
   },
   "outputs": [
    {
     "data": {
      "application/javascript": [
       "parent.postMessage({\"jupyterEvent\": \"custom.exercise_interaction\", \"data\": {\"outcomeType\": 1, \"valueTowardsCompletion\": 0.2, \"interactionType\": 1, \"questionType\": 2, \"questionId\": \"2_Q2\", \"learnToolsVersion\": \"0.3.4\", \"failureMessage\": \"\", \"exceptionClass\": \"\", \"trace\": \"\"}}, \"*\")"
      ],
      "text/plain": [
       "<IPython.core.display.Javascript object>"
      ]
     },
     "metadata": {},
     "output_type": "display_data"
    },
    {
     "data": {
      "text/markdown": [
       "<span style=\"color:#33cc33\">Correct</span>"
      ],
      "text/plain": [
       "Correct"
      ]
     },
     "metadata": {},
     "output_type": "display_data"
    }
   ],
   "source": [
    "# YOUR CODE HERE\n",
    "# One-hot encode BldgType. Use `prefix=\"Bldg\"` in `get_dummies`\n",
    "X_2 = pd.get_dummies(df.BldgType, prefix=\"Bldg\") \n",
    "# Multiply\n",
    "X_2 = X_2.mul(df.GrLivArea, axis=0)\n",
    "\n",
    "\n",
    "# Check your answer\n",
    "q_2.check()"
   ]
  },
  {
   "cell_type": "code",
   "execution_count": 5,
   "id": "3da6b770",
   "metadata": {
    "execution": {
     "iopub.execute_input": "2022-05-04T01:02:20.628386Z",
     "iopub.status.busy": "2022-05-04T01:02:20.627387Z",
     "iopub.status.idle": "2022-05-04T01:02:20.631386Z",
     "shell.execute_reply": "2022-05-04T01:02:20.630861Z"
    },
    "lines_to_next_cell": 0,
    "papermill": {
     "duration": 0.025684,
     "end_time": "2022-05-04T01:02:20.633090",
     "exception": false,
     "start_time": "2022-05-04T01:02:20.607406",
     "status": "completed"
    },
    "tags": []
   },
   "outputs": [],
   "source": [
    "# Lines below will give you a hint or solution code\n",
    "#q_2.hint()\n",
    "#q_2.solution()"
   ]
  },
  {
   "cell_type": "markdown",
   "id": "f291948f",
   "metadata": {
    "lines_to_next_cell": 0,
    "papermill": {
     "duration": 0.01681,
     "end_time": "2022-05-04T01:02:20.668405",
     "exception": false,
     "start_time": "2022-05-04T01:02:20.651595",
     "status": "completed"
    },
    "tags": []
   },
   "source": [
    "# 3) Count Feature\n",
    "\n",
    "Let's try creating a feature that describes how many kinds of outdoor areas a dwelling has. Create a feature `PorchTypes` that counts how many of the following are greater than 0.0:\n",
    "\n",
    "```\n",
    "WoodDeckSF\n",
    "OpenPorchSF\n",
    "EnclosedPorch\n",
    "Threeseasonporch\n",
    "ScreenPorch\n",
    "```"
   ]
  },
  {
   "cell_type": "code",
   "execution_count": 6,
   "id": "74351da2",
   "metadata": {
    "execution": {
     "iopub.execute_input": "2022-05-04T01:02:20.705438Z",
     "iopub.status.busy": "2022-05-04T01:02:20.704370Z",
     "iopub.status.idle": "2022-05-04T01:02:20.721508Z",
     "shell.execute_reply": "2022-05-04T01:02:20.720910Z"
    },
    "lines_to_next_cell": 0,
    "papermill": {
     "duration": 0.037508,
     "end_time": "2022-05-04T01:02:20.723270",
     "exception": false,
     "start_time": "2022-05-04T01:02:20.685762",
     "status": "completed"
    },
    "tags": []
   },
   "outputs": [
    {
     "data": {
      "application/javascript": [
       "parent.postMessage({\"jupyterEvent\": \"custom.exercise_interaction\", \"data\": {\"outcomeType\": 1, \"valueTowardsCompletion\": 0.2, \"interactionType\": 1, \"questionType\": 2, \"questionId\": \"3_Q3\", \"learnToolsVersion\": \"0.3.4\", \"failureMessage\": \"\", \"exceptionClass\": \"\", \"trace\": \"\"}}, \"*\")"
      ],
      "text/plain": [
       "<IPython.core.display.Javascript object>"
      ]
     },
     "metadata": {},
     "output_type": "display_data"
    },
    {
     "data": {
      "text/markdown": [
       "<span style=\"color:#33cc33\">Correct</span>"
      ],
      "text/plain": [
       "Correct"
      ]
     },
     "metadata": {},
     "output_type": "display_data"
    }
   ],
   "source": [
    "X_3 = pd.DataFrame()\n",
    "\n",
    "# YOUR CODE HERE\n",
    "X_3[\"PorchTypes\"] = df[[\"WoodDeckSF\", \"OpenPorchSF\", \"EnclosedPorch\", \"Threeseasonporch\", \"ScreenPorch\",]].gt(0.0).sum(axis=1)\n",
    "\n",
    "\n",
    "# Check your answer\n",
    "q_3.check()"
   ]
  },
  {
   "cell_type": "code",
   "execution_count": 7,
   "id": "9b42ca57",
   "metadata": {
    "execution": {
     "iopub.execute_input": "2022-05-04T01:02:20.761068Z",
     "iopub.status.busy": "2022-05-04T01:02:20.760097Z",
     "iopub.status.idle": "2022-05-04T01:02:20.764413Z",
     "shell.execute_reply": "2022-05-04T01:02:20.763805Z"
    },
    "lines_to_next_cell": 0,
    "papermill": {
     "duration": 0.025346,
     "end_time": "2022-05-04T01:02:20.766189",
     "exception": false,
     "start_time": "2022-05-04T01:02:20.740843",
     "status": "completed"
    },
    "tags": []
   },
   "outputs": [],
   "source": [
    "# Lines below will give you a hint or solution code\n",
    "#q_3.hint()\n",
    "#q_3.solution()"
   ]
  },
  {
   "cell_type": "markdown",
   "id": "debdf6d8",
   "metadata": {
    "papermill": {
     "duration": 0.017502,
     "end_time": "2022-05-04T01:02:20.801482",
     "exception": false,
     "start_time": "2022-05-04T01:02:20.783980",
     "status": "completed"
    },
    "tags": []
   },
   "source": [
    "# 4) Break Down a Categorical Feature\n",
    "\n",
    "`MSSubClass` describes the type of a dwelling:"
   ]
  },
  {
   "cell_type": "code",
   "execution_count": 8,
   "id": "5cad284c",
   "metadata": {
    "execution": {
     "iopub.execute_input": "2022-05-04T01:02:20.840035Z",
     "iopub.status.busy": "2022-05-04T01:02:20.839285Z",
     "iopub.status.idle": "2022-05-04T01:02:20.846893Z",
     "shell.execute_reply": "2022-05-04T01:02:20.846266Z"
    },
    "papermill": {
     "duration": 0.028929,
     "end_time": "2022-05-04T01:02:20.848606",
     "exception": false,
     "start_time": "2022-05-04T01:02:20.819677",
     "status": "completed"
    },
    "tags": []
   },
   "outputs": [
    {
     "data": {
      "text/plain": [
       "array(['One_Story_1946_and_Newer_All_Styles', 'Two_Story_1946_and_Newer',\n",
       "       'One_Story_PUD_1946_and_Newer',\n",
       "       'One_and_Half_Story_Finished_All_Ages', 'Split_Foyer',\n",
       "       'Two_Story_PUD_1946_and_Newer', 'Split_or_Multilevel',\n",
       "       'One_Story_1945_and_Older', 'Duplex_All_Styles_and_Ages',\n",
       "       'Two_Family_conversion_All_Styles_and_Ages',\n",
       "       'One_and_Half_Story_Unfinished_All_Ages',\n",
       "       'Two_Story_1945_and_Older', 'Two_and_Half_Story_All_Ages',\n",
       "       'One_Story_with_Finished_Attic_All_Ages',\n",
       "       'PUD_Multilevel_Split_Level_Foyer',\n",
       "       'One_and_Half_Story_PUD_All_Ages'], dtype=object)"
      ]
     },
     "execution_count": 8,
     "metadata": {},
     "output_type": "execute_result"
    }
   ],
   "source": [
    "df.MSSubClass.unique()"
   ]
  },
  {
   "cell_type": "markdown",
   "id": "0f4c87b5",
   "metadata": {
    "papermill": {
     "duration": 0.018902,
     "end_time": "2022-05-04T01:02:20.885955",
     "exception": false,
     "start_time": "2022-05-04T01:02:20.867053",
     "status": "completed"
    },
    "tags": []
   },
   "source": [
    "You can see that there is a more general categorization described (roughly) by the first word of each category. Create a feature containing only these first words by splitting `MSSubClass` at the first underscore `_`. (Hint: In the `split` method use an argument `n=1`.)"
   ]
  },
  {
   "cell_type": "code",
   "execution_count": 9,
   "id": "d068fc44",
   "metadata": {
    "execution": {
     "iopub.execute_input": "2022-05-04T01:02:20.925138Z",
     "iopub.status.busy": "2022-05-04T01:02:20.924422Z",
     "iopub.status.idle": "2022-05-04T01:02:20.947563Z",
     "shell.execute_reply": "2022-05-04T01:02:20.946970Z"
    },
    "lines_to_next_cell": 0,
    "papermill": {
     "duration": 0.044308,
     "end_time": "2022-05-04T01:02:20.949324",
     "exception": false,
     "start_time": "2022-05-04T01:02:20.905016",
     "status": "completed"
    },
    "tags": []
   },
   "outputs": [
    {
     "data": {
      "application/javascript": [
       "parent.postMessage({\"jupyterEvent\": \"custom.exercise_interaction\", \"data\": {\"outcomeType\": 1, \"valueTowardsCompletion\": 0.2, \"interactionType\": 1, \"questionType\": 2, \"questionId\": \"4_Q4\", \"learnToolsVersion\": \"0.3.4\", \"failureMessage\": \"\", \"exceptionClass\": \"\", \"trace\": \"\"}}, \"*\")"
      ],
      "text/plain": [
       "<IPython.core.display.Javascript object>"
      ]
     },
     "metadata": {},
     "output_type": "display_data"
    },
    {
     "data": {
      "text/markdown": [
       "<span style=\"color:#33cc33\">Correct</span>"
      ],
      "text/plain": [
       "Correct"
      ]
     },
     "metadata": {},
     "output_type": "display_data"
    }
   ],
   "source": [
    "X_4 = pd.DataFrame()\n",
    "\n",
    "# YOUR CODE HERE\n",
    "X_4[\"MSClass\"] = df.MSSubClass.str.split(\"_\", n=1, expand=True)[0]\n",
    "\n",
    "# Check your answer\n",
    "q_4.check()"
   ]
  },
  {
   "cell_type": "code",
   "execution_count": 10,
   "id": "5b6639c6",
   "metadata": {
    "execution": {
     "iopub.execute_input": "2022-05-04T01:02:20.989977Z",
     "iopub.status.busy": "2022-05-04T01:02:20.989396Z",
     "iopub.status.idle": "2022-05-04T01:02:20.993244Z",
     "shell.execute_reply": "2022-05-04T01:02:20.992237Z"
    },
    "lines_to_next_cell": 0,
    "papermill": {
     "duration": 0.026092,
     "end_time": "2022-05-04T01:02:20.995125",
     "exception": false,
     "start_time": "2022-05-04T01:02:20.969033",
     "status": "completed"
    },
    "tags": []
   },
   "outputs": [],
   "source": [
    "# Lines below will give you a hint or solution code\n",
    "#q_4.hint()\n",
    "#q_4.solution()"
   ]
  },
  {
   "cell_type": "markdown",
   "id": "ce101cd5",
   "metadata": {
    "papermill": {
     "duration": 0.018894,
     "end_time": "2022-05-04T01:02:21.033875",
     "exception": false,
     "start_time": "2022-05-04T01:02:21.014981",
     "status": "completed"
    },
    "tags": []
   },
   "source": [
    "# 5) Use a Grouped Transform\n",
    "\n",
    "The value of a home often depends on how it compares to typical homes in its neighborhood. Create a feature `MedNhbdArea` that describes the *median* of `GrLivArea` grouped on `Neighborhood`."
   ]
  },
  {
   "cell_type": "code",
   "execution_count": 11,
   "id": "f73bd65a",
   "metadata": {
    "execution": {
     "iopub.execute_input": "2022-05-04T01:02:21.075703Z",
     "iopub.status.busy": "2022-05-04T01:02:21.075191Z",
     "iopub.status.idle": "2022-05-04T01:02:21.092480Z",
     "shell.execute_reply": "2022-05-04T01:02:21.091685Z"
    },
    "lines_to_next_cell": 0,
    "papermill": {
     "duration": 0.041009,
     "end_time": "2022-05-04T01:02:21.094911",
     "exception": false,
     "start_time": "2022-05-04T01:02:21.053902",
     "status": "completed"
    },
    "tags": []
   },
   "outputs": [
    {
     "data": {
      "application/javascript": [
       "parent.postMessage({\"jupyterEvent\": \"custom.exercise_interaction\", \"data\": {\"outcomeType\": 1, \"valueTowardsCompletion\": 0.2, \"interactionType\": 1, \"questionType\": 2, \"questionId\": \"5_Q5\", \"learnToolsVersion\": \"0.3.4\", \"failureMessage\": \"\", \"exceptionClass\": \"\", \"trace\": \"\"}}, \"*\")"
      ],
      "text/plain": [
       "<IPython.core.display.Javascript object>"
      ]
     },
     "metadata": {},
     "output_type": "display_data"
    },
    {
     "data": {
      "text/markdown": [
       "<span style=\"color:#33cc33\">Correct</span>"
      ],
      "text/plain": [
       "Correct"
      ]
     },
     "metadata": {},
     "output_type": "display_data"
    }
   ],
   "source": [
    "X_5 = pd.DataFrame()\n",
    "\n",
    "# YOUR CODE HERE\n",
    "X_5[\"MedNhbdArea\"] = df.groupby(\"Neighborhood\")[\"GrLivArea\"].transform(\"median\")\n",
    "\n",
    "# Check your answer\n",
    "q_5.check()\n"
   ]
  },
  {
   "cell_type": "code",
   "execution_count": 12,
   "id": "5e989d83",
   "metadata": {
    "execution": {
     "iopub.execute_input": "2022-05-04T01:02:21.137598Z",
     "iopub.status.busy": "2022-05-04T01:02:21.137096Z",
     "iopub.status.idle": "2022-05-04T01:02:21.140570Z",
     "shell.execute_reply": "2022-05-04T01:02:21.139745Z"
    },
    "lines_to_next_cell": 0,
    "papermill": {
     "duration": 0.027114,
     "end_time": "2022-05-04T01:02:21.142443",
     "exception": false,
     "start_time": "2022-05-04T01:02:21.115329",
     "status": "completed"
    },
    "tags": []
   },
   "outputs": [],
   "source": [
    "# Lines below will give you a hint or solution code\n",
    "#q_5.hint()\n",
    "#q_5.solution()"
   ]
  },
  {
   "cell_type": "markdown",
   "id": "f25f1427",
   "metadata": {
    "papermill": {
     "duration": 0.020135,
     "end_time": "2022-05-04T01:02:21.182302",
     "exception": false,
     "start_time": "2022-05-04T01:02:21.162167",
     "status": "completed"
    },
    "tags": []
   },
   "source": [
    "Now you've made your first new feature set! If you like, you can run the cell below to score the model with all of your new features added:"
   ]
  },
  {
   "cell_type": "code",
   "execution_count": 13,
   "id": "5ce11339",
   "metadata": {
    "execution": {
     "iopub.execute_input": "2022-05-04T01:02:21.223625Z",
     "iopub.status.busy": "2022-05-04T01:02:21.223309Z",
     "iopub.status.idle": "2022-05-04T01:02:25.954389Z",
     "shell.execute_reply": "2022-05-04T01:02:25.952873Z"
    },
    "papermill": {
     "duration": 4.75432,
     "end_time": "2022-05-04T01:02:25.956407",
     "exception": false,
     "start_time": "2022-05-04T01:02:21.202087",
     "status": "completed"
    },
    "tags": []
   },
   "outputs": [
    {
     "data": {
      "text/plain": [
       "0.13847331710099203"
      ]
     },
     "execution_count": 13,
     "metadata": {},
     "output_type": "execute_result"
    }
   ],
   "source": [
    "X_new = X.join([X_1, X_2, X_3, X_4, X_5])\n",
    "score_dataset(X_new, y)"
   ]
  },
  {
   "cell_type": "markdown",
   "id": "e1cd32dd",
   "metadata": {
    "papermill": {
     "duration": 0.020816,
     "end_time": "2022-05-04T01:02:25.997978",
     "exception": false,
     "start_time": "2022-05-04T01:02:25.977162",
     "status": "completed"
    },
    "tags": []
   },
   "source": [
    "# Keep Going #\n",
    "\n",
    "[**Untangle spatial relationships**](https://www.kaggle.com/ryanholbrook/clustering-with-k-means) by adding cluster labels to your dataset."
   ]
  }
 ],
 "metadata": {
  "kernelspec": {
   "display_name": "Python 3",
   "language": "python",
   "name": "python3"
  },
  "language_info": {
   "codemirror_mode": {
    "name": "ipython",
    "version": 3
   },
   "file_extension": ".py",
   "mimetype": "text/x-python",
   "name": "python",
   "nbconvert_exporter": "python",
   "pygments_lexer": "ipython3",
   "version": "3.7.12"
  },
  "papermill": {
   "default_parameters": {},
   "duration": 16.904593,
   "end_time": "2022-05-04T01:02:26.941249",
   "environment_variables": {},
   "exception": null,
   "input_path": "__notebook__.ipynb",
   "output_path": "__notebook__.ipynb",
   "parameters": {},
   "start_time": "2022-05-04T01:02:10.036656",
   "version": "2.3.4"
  }
 },
 "nbformat": 4,
 "nbformat_minor": 5
}
